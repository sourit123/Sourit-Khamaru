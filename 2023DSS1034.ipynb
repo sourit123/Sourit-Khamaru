{
  "cells": [
    {
      "cell_type": "markdown",
      "metadata": {
        "id": "view-in-github",
        "colab_type": "text"
      },
      "source": [
        "<a href=\"https://colab.research.google.com/github/sourit123/Sourit-Khamaru/blob/main/2023DSS1034.ipynb\" target=\"_parent\"><img src=\"https://colab.research.google.com/assets/colab-badge.svg\" alt=\"Open In Colab\"/></a>"
      ]
    },
    {
      "cell_type": "markdown",
      "id": "95b8463f-8af7-4dc7-8ef7-e2c4356cea7a",
      "metadata": {
        "id": "95b8463f-8af7-4dc7-8ef7-e2c4356cea7a"
      },
      "source": [
        "Q1) MaxZ = 3x1 + 5x2 + 4x3\n",
        "\n",
        "     Subject to     2x1 + 3x2 <= 8\n",
        "                    2x2 + 5x3 <= 10\n",
        "                 3x1 + 2x2 + 4x3 <= 15\n",
        "                    x1, x2, x3 >= 0"
      ]
    },
    {
      "cell_type": "code",
      "execution_count": null,
      "id": "8b5e8aa2-1c14-4598-b65d-399dc3c5f615",
      "metadata": {
        "id": "8b5e8aa2-1c14-4598-b65d-399dc3c5f615",
        "outputId": "2880bbb5-afd9-48d3-99d8-4ec2e787cb40"
      },
      "outputs": [
        {
          "name": "stderr",
          "output_type": "stream",
          "text": [
            "C:\\Users\\souri\\AppData\\Local\\Temp\\ipykernel_20236\\2032604437.py:9: DeprecationWarning: `method='simplex'` is deprecated and will be removed in SciPy 1.11.0. Please use one of the HiGHS solvers (e.g. `method='highs'`) in new code.\n",
            "  res = linprog(k, A_ub=A, b_ub=b, bounds=[x0_bounds, x1_bounds, x2_bounds], method='simplex')\n"
          ]
        },
        {
          "data": {
            "text/plain": [
              " message: Optimization terminated successfully.\n",
              " success: True\n",
              "  status: 0\n",
              "     fun: -18.65853658536585\n",
              "       x: [ 2.171e+00  1.220e+00  1.512e+00]\n",
              "     nit: 3"
            ]
          },
          "execution_count": 46,
          "metadata": {},
          "output_type": "execute_result"
        }
      ],
      "source": [
        "from scipy.optimize import linprog\n",
        "k = [-3,-5,-4]\n",
        "A = [[2,3,0], [0, 2,5],[3,2,4]]\n",
        "b = [8,10,15]\n",
        "x0_bounds = (0, None)\n",
        "x1_bounds = (0, None)\n",
        "x2_bounds = (0, None)\n",
        "\n",
        "res = linprog(k, A_ub=A, b_ub=b, bounds=[x0_bounds, x1_bounds, x2_bounds], method='simplex')\n",
        "\n",
        "res"
      ]
    },
    {
      "cell_type": "code",
      "execution_count": null,
      "id": "87d2996c-d792-463d-a3d0-3df0d8555230",
      "metadata": {
        "id": "87d2996c-d792-463d-a3d0-3df0d8555230",
        "outputId": "882244b1-ece9-4db9-ddf3-a6577ae02b47"
      },
      "outputs": [
        {
          "name": "stdout",
          "output_type": "stream",
          "text": [
            "for optimal profit; x1=2.1707317073170733, x2=1.2195121951219512, x3=1.5121951219512195\n"
          ]
        }
      ],
      "source": [
        "print(f\"for optimal profit; x1={res.x[0]}, x2={res.x[1]}, x3={res.x[2]}\")"
      ]
    },
    {
      "cell_type": "code",
      "execution_count": null,
      "id": "409e9af6-92fd-4061-b52d-3109308b628d",
      "metadata": {
        "id": "409e9af6-92fd-4061-b52d-3109308b628d",
        "outputId": "d088b29c-deff-488c-ae10-d7247f5e708d"
      },
      "outputs": [
        {
          "name": "stdout",
          "output_type": "stream",
          "text": [
            "Max profit=18.65853658536585\n"
          ]
        }
      ],
      "source": [
        "print(f\"Max profit={abs(res.fun)}\")"
      ]
    },
    {
      "cell_type": "markdown",
      "id": "e1443ad6-bb3b-463b-8093-c575c9739b0b",
      "metadata": {
        "id": "e1443ad6-bb3b-463b-8093-c575c9739b0b"
      },
      "source": [
        "Q2) Min Z=4x+3y\n",
        "\n",
        "    Subject to , 200x+100y>=4000\n",
        "                   x+2y>=50\n",
        "                 40x+40y>=1400\n",
        "                   x, y >= 0"
      ]
    },
    {
      "cell_type": "code",
      "execution_count": null,
      "id": "2f3fb6a0-8c32-4ab5-b075-179233666f67",
      "metadata": {
        "id": "2f3fb6a0-8c32-4ab5-b075-179233666f67",
        "outputId": "71d41447-9f79-4b05-b1ff-45f7c6806f98"
      },
      "outputs": [
        {
          "name": "stdout",
          "output_type": "stream",
          "text": [
            " message: Optimization terminated successfully.\n",
            " success: True\n",
            "  status: 0\n",
            "     fun: 110.0\n",
            "       x: [ 5.000e+00  3.000e+01]\n",
            "     nit: 3\n"
          ]
        },
        {
          "name": "stderr",
          "output_type": "stream",
          "text": [
            "C:\\Users\\souri\\AppData\\Local\\Temp\\ipykernel_20236\\348622271.py:8: DeprecationWarning: `method='simplex'` is deprecated and will be removed in SciPy 1.11.0. Please use one of the HiGHS solvers (e.g. `method='highs'`) in new code.\n",
            "  res = linprog(k, A_ub=A_ub, b_ub=b_ub, bounds=[(0, None), (0, None)], method='simplex')\n"
          ]
        }
      ],
      "source": [
        "from scipy.optimize import linprog\n",
        "\n",
        "k = [4, 3]  # Cost function coefficients\n",
        "A_ub = [[-200, -100], [-1, -2], [-40, -40]]  # Inequality constraints coefficients\n",
        "b_ub = [-4000, -50, -1400]  # Inequality constraints bounds\n",
        "\n",
        "# Solve the linear programming problem\n",
        "res = linprog(k, A_ub=A_ub, b_ub=b_ub, bounds=[(0, None), (0, None)], method='simplex')\n",
        "print(res)"
      ]
    },
    {
      "cell_type": "code",
      "execution_count": null,
      "id": "a13b72e7-05ad-454e-9466-3a2d699ebf6a",
      "metadata": {
        "id": "a13b72e7-05ad-454e-9466-3a2d699ebf6a",
        "outputId": "f908f1d6-0c7e-47d1-9df8-d745eb38533a"
      },
      "outputs": [
        {
          "name": "stdout",
          "output_type": "stream",
          "text": [
            "Optimal food combination; Food A (x)=5.0, Food B (y)=30.0\n",
            "Minimum total cost (z)=110.0\n"
          ]
        }
      ],
      "source": [
        "# Output the results\n",
        "if res.success:\n",
        "    print(f\"Optimal food combination; Food A (x)={res.x[0]}, Food B (y)={res.x[1]}\")\n",
        "    print(f\"Minimum total cost (z)={res.fun}\")\n",
        "else:\n",
        "    print(\"No feasible solution found.\")"
      ]
    },
    {
      "cell_type": "markdown",
      "id": "c0c8e9c4-fab3-431d-a9e9-e5c0409e8f25",
      "metadata": {
        "id": "c0c8e9c4-fab3-431d-a9e9-e5c0409e8f25"
      },
      "source": [
        "Q3) Max Z=500000x+100000y\n",
        "\n",
        "    Subject to,  50000x+20000y<=200000\n",
        "                        x>=3\n",
        "                        y<=5\n",
        "                        x,y>=0"
      ]
    },
    {
      "cell_type": "code",
      "execution_count": null,
      "id": "11f305b9-5125-4c42-b294-f20ebb7e2e32",
      "metadata": {
        "scrolled": true,
        "id": "11f305b9-5125-4c42-b294-f20ebb7e2e32",
        "outputId": "acb1a21d-65c3-41a7-8c0b-358f469d475d"
      },
      "outputs": [
        {
          "name": "stdout",
          "output_type": "stream",
          "text": [
            " message: Optimization terminated successfully.\n",
            " success: True\n",
            "  status: 0\n",
            "     fun: -2000000.0\n",
            "       x: [ 4.000e+00  0.000e+00]\n",
            "     nit: 4\n"
          ]
        },
        {
          "name": "stderr",
          "output_type": "stream",
          "text": [
            "C:\\Users\\souri\\AppData\\Local\\Temp\\ipykernel_20236\\3768642323.py:11: DeprecationWarning: `method='simplex'` is deprecated and will be removed in SciPy 1.11.0. Please use one of the HiGHS solvers (e.g. `method='highs'`) in new code.\n",
            "  res = linprog(k, A_ub=A, b_ub=b, bounds=[x_bounds, y_bounds], method='simplex')\n"
          ]
        }
      ],
      "source": [
        "from scipy.optimize import linprog\n",
        "\n",
        "# Objective function coefficients and constraints\n",
        "k = [-500000, -100000]\n",
        "A = [[50000, 20000], [-1, 0], [0, 1]]\n",
        "b = [200000, -3, 5]\n",
        "x_bounds = (3, None)\n",
        "y_bounds = (0, 5)\n",
        "\n",
        "# Solve the problem\n",
        "res = linprog(k, A_ub=A, b_ub=b, bounds=[x_bounds, y_bounds], method='simplex')\n",
        "print(res)"
      ]
    },
    {
      "cell_type": "code",
      "execution_count": null,
      "id": "0b301611-2f49-4d19-8957-5f6a9261673a",
      "metadata": {
        "id": "0b301611-2f49-4d19-8957-5f6a9261673a",
        "outputId": "1e016483-e342-4998-f4d2-ae084a59523c"
      },
      "outputs": [
        {
          "name": "stdout",
          "output_type": "stream",
          "text": [
            "for optimal media mix; TV programmes (x)=4.0, Radio programmes (y)=0.0\n",
            "Maximum reach=2000000.0\n"
          ]
        }
      ],
      "source": [
        "# Print the optimal media mix and maximum reach\n",
        "if res.success:\n",
        "    print(f\"for optimal media mix; TV programmes (x)={res.x[0]}, Radio programmes (y)={res.x[1]}\")\n",
        "    print(f\"Maximum reach={-res.fun}\")  # Negate because we minimized the negative of the objective\n",
        "else:\n",
        "    print(\"There is no feasible solution\")\n"
      ]
    },
    {
      "cell_type": "code",
      "execution_count": null,
      "id": "234a6c2b-e8ed-4464-9948-3f323e7e0e91",
      "metadata": {
        "id": "234a6c2b-e8ed-4464-9948-3f323e7e0e91",
        "outputId": "75d6ec9b-7170-4020-fa04-96fd5b400b3f"
      },
      "outputs": [
        {
          "name": "stdout",
          "output_type": "stream",
          "text": [
            "Number of customers reached for type A: 1800000.0\n",
            "Number of customers reached for type B: 200000.0\n"
          ]
        }
      ],
      "source": [
        "# Assuming the optimal number of TV programmes is the result from the optimization\n",
        "tv_programs = res.x[0] if res.success else 0\n",
        "\n",
        "# Calculate the number of customers reached\n",
        "customers_reached_type_A = tv_programs * customers_reached_type_A_per_tv\n",
        "customers_reached_type_B = tv_programs * customers_reached_type_B_per_tv\n",
        "\n",
        "# Print the number of customers reached for type A and type B\n",
        "print(f\"Number of customers reached for type A: {customers_reached_type_A}\")\n",
        "print(f\"Number of customers reached for type B: {customers_reached_type_B}\")"
      ]
    },
    {
      "cell_type": "markdown",
      "id": "2b786606-0108-4d95-8c47-bf98493abcb7",
      "metadata": {
        "id": "2b786606-0108-4d95-8c47-bf98493abcb7"
      },
      "source": [
        "Case Study: Optimization of Production Planning for a Fruit Beverage Manufacturing Company\n",
        "\n",
        "Background:\n",
        "ABC Fruit Beverage Company produces various fruit-based beverages, including orange juice and apple juice. Each beverage requires different quantities of fruit concentrates, water, and packaging materials for production. The company aims to determine the optimal production quantities of orange juice and apple juice to maximize profit while considering resource constraints.\n",
        "\n",
        "Objective:\n",
        "Maximize the profit for ABC Fruit Beverage Company by determining the optimal production quantities of orange juice and apple juice.\n",
        "\n",
        "Constraints:\n",
        "\n",
        "Each liter of orange juice requires 0.5 liters of orange concentrate, 0.3 liters of water, and 0.2 units of packaging materials.\n",
        "Each liter of apple juice requires 0.4 liters of apple concentrate, 0.4 liters of water, and 0.3 units of packaging materials.\n",
        "The company has 300 liters of orange concentrate, 250 liters of apple concentrate, 200 liters of water, and 150 units of packaging materials available for production.\n",
        "The production capacity for orange juice is 150 liters, and for apple juice is 120 liters.\n",
        "Non-negativity constraint: The production quantities of orange juice and apple juice must be non-negative.\n",
        "Data:\n",
        "\n",
        "Profit per liter of orange juice: $2.50\n",
        "Profit per liter of apple juice: $3.00\n",
        "Formulation:\n",
        "Let O be the number of liters of orange juice produced and A be the number of liters of apple juice produced.\n",
        "\n",
        "Objective Function:\n",
        "Maximize, Z=2.5*O+3*A\n",
        "\n",
        "Constraints:-\n",
        "\n",
        "0.5*O+0.4*A≤300 (Orange concentrate constraint)\n",
        "0.3*O+0.4*A≤250 (Apple concentrate constraint)\n",
        "0.3*O+0.4*A≤200 (Water constraint)\n",
        "0.2*O+0.3*A≤150 (Packaging materials constraint)\n",
        "O≤150 (Production capacity for orange juice)\n",
        "A≤120 (Production capacity for apple juice)\n",
        "\n",
        "O≥0,\n",
        "A≥0 (Non-negativity constraint)"
      ]
    },
    {
      "cell_type": "code",
      "execution_count": null,
      "id": "b638e62f-832c-4e60-a6d5-8d987615a8b5",
      "metadata": {
        "id": "b638e62f-832c-4e60-a6d5-8d987615a8b5",
        "outputId": "788b6ee3-3f2a-4b01-e0ec-1cd1ae89f2d1"
      },
      "outputs": [
        {
          "name": "stdout",
          "output_type": "stream",
          "text": [
            "Model Status: Optimal\n",
            "Objective =  1625.0\n",
            "A = 125.0\n",
            "O = 500.0\n",
            "  Name        Constraint  Shadow price  Slack\n",
            "0  _C1  {O: 0.5, A: 0.4}          1.25   -0.0\n",
            "1  _C2  {O: 0.3, A: 0.4}         -0.00   50.0\n",
            "2  _C3  {O: 0.3, A: 0.4}          6.25   -0.0\n",
            "3  _C4  {O: 0.2, A: 0.3}         -0.00   12.5\n"
          ]
        }
      ],
      "source": [
        "from pulp import *\n",
        "import pandas as pd\n",
        "\n",
        "# Initialize Class, Define Vars., and Objective\n",
        "model = LpProblem(\"Glass_Manufacturing_Industries_Profits\", LpMaximize)\n",
        "\n",
        "# Define variables\n",
        "O = LpVariable('O', lowBound=0)\n",
        "A = LpVariable('A', lowBound=0)\n",
        "\n",
        "# Define Objective Function: Profit on Product A and B\n",
        "model += 2.5*O+3*A\n",
        "\n",
        "# Constraint 1\n",
        "model += 0.5*O+0.4*A<=300\n",
        "\n",
        "# Constraint 2\n",
        "model += 0.3*O+0.4*A <=250\n",
        "\n",
        "# Constraint 3\n",
        "model += 0.3*O+0.4*A <=200\n",
        "\n",
        "# Constraint 4\n",
        "model += 0.2*O+0.3*A<=150\n",
        "\n",
        "# Solve Model\n",
        "model.solve()\n",
        "\n",
        "print(\"Model Status: {}\".format(LpStatus[model.status]))\n",
        "print(\"Objective = \", value(model.objective))\n",
        "\n",
        "for v in model.variables():\n",
        "    print(v.name,\"=\", v.varValue)\n",
        "\n",
        "o = [{'Name': name, 'Constraint': c, 'Shadow price': c.pi, 'Slack': c.slack} for name, c in model.constraints.items()]\n",
        "\n",
        "print(pd.DataFrame(o))"
      ]
    },
    {
      "cell_type": "code",
      "execution_count": null,
      "id": "0a41b344-fa1e-48cb-a33c-5703b4ba3416",
      "metadata": {
        "id": "0a41b344-fa1e-48cb-a33c-5703b4ba3416",
        "outputId": "96f23600-5091-46d2-d770-a32909e04646"
      },
      "outputs": [
        {
          "name": "stdout",
          "output_type": "stream",
          "text": [
            "Model Status: Optimal\n",
            "Objective =  1625.0\n",
            "A = 125.0\n",
            "O = 500.0\n",
            "  Name        Constraint  Shadow price  Slack\n",
            "0  _C1  {O: 0.5, A: 0.4}          1.25   -0.0\n",
            "1  _C2  {O: 0.3, A: 0.4}         -0.00   -0.0\n",
            "2  _C3  {O: 0.3, A: 0.4}          6.25   -0.0\n",
            "3  _C4  {O: 0.2, A: 0.3}         -0.00   12.5\n"
          ]
        }
      ],
      "source": [
        "from pulp import *\n",
        "import pandas as pd\n",
        "\n",
        "# Initialize Class, Define Vars., and Objective\n",
        "model = LpProblem(\"Glass_Manufacturing_Industries_Profits\", LpMaximize)\n",
        "\n",
        "# Define variables\n",
        "O = LpVariable('O', lowBound=0)\n",
        "A = LpVariable('A', lowBound=0)\n",
        "\n",
        "# Define Objective Function: Profit on Product A and B\n",
        "model += 2.5*O+3*A\n",
        "\n",
        "# Constraint 1\n",
        "model += 0.5*O+0.4*A<=300\n",
        "\n",
        "# Constraint 2\n",
        "model += 0.3*O+0.4*A <=200 #updating the value\n",
        "\n",
        "# Constraint 3\n",
        "model += 0.3*O+0.4*A <=200\n",
        "\n",
        "# Constraint 4\n",
        "model += 0.2*O+0.3*A<=150\n",
        "\n",
        "# Solve Model\n",
        "model.solve()\n",
        "\n",
        "print(\"Model Status: {}\".format(LpStatus[model.status]))\n",
        "print(\"Objective = \", value(model.objective))\n",
        "\n",
        "for v in model.variables():\n",
        "    print(v.name,\"=\", v.varValue)\n",
        "\n",
        "o = [{'Name': name, 'Constraint': c, 'Shadow price': c.pi, 'Slack': c.slack} for name, c in model.constraints.items()]\n",
        "\n",
        "print(pd.DataFrame(o))\n"
      ]
    },
    {
      "cell_type": "code",
      "execution_count": null,
      "id": "8f2d51b8-bb5c-44ab-9f5e-5d2f09051aa7",
      "metadata": {
        "id": "8f2d51b8-bb5c-44ab-9f5e-5d2f09051aa7",
        "outputId": "26dddfce-aeb0-469f-d419-fde9b4aff92a"
      },
      "outputs": [
        {
          "name": "stdout",
          "output_type": "stream",
          "text": [
            "Model Status: Optimal\n",
            "Objective =  1714.2857050000002\n",
            "A = 214.28571\n",
            "O = 428.57143\n",
            "  Name        Constraint  Shadow price     Slack\n",
            "0  _C1  {O: 0.5, A: 0.4}      2.142857  -0.00000\n",
            "1  _C2  {O: 0.3, A: 0.4}     -0.000000  35.71429\n",
            "2  _C3  {O: 0.3, A: 0.4}     -0.000000  85.71429\n",
            "3  _C4  {O: 0.2, A: 0.3}      7.142857  -0.00000\n"
          ]
        }
      ],
      "source": [
        "from pulp import *\n",
        "import pandas as pd\n",
        "\n",
        "# Initialize Class, Define Vars., and Objective\n",
        "model = LpProblem(\"Glass_Manufacturing_Industries_Profits\", LpMaximize)\n",
        "\n",
        "# Define variables\n",
        "O = LpVariable('O', lowBound=0)\n",
        "A = LpVariable('A', lowBound=0)\n",
        "\n",
        "# Define Objective Function: Profit on Product A and B\n",
        "model += 2.5*O+3*A\n",
        "\n",
        "# Constraint 1\n",
        "model += 0.5*O+0.4*A<=300\n",
        "\n",
        "# Constraint 2\n",
        "model += 0.3*O+0.4*A <=250\n",
        "\n",
        "# Constraint 3\n",
        "model += 0.3*O+0.4*A <=300 #updating the value\n",
        "\n",
        "# Constraint 4\n",
        "model += 0.2*O+0.3*A<=150\n",
        "\n",
        "# Solve Model\n",
        "model.solve()\n",
        "\n",
        "print(\"Model Status: {}\".format(LpStatus[model.status]))\n",
        "print(\"Objective = \", value(model.objective))\n",
        "\n",
        "for v in model.variables():\n",
        "    print(v.name,\"=\", v.varValue)\n",
        "\n",
        "o = [{'Name': name, 'Constraint': c, 'Shadow price': c.pi, 'Slack': c.slack} for name, c in model.constraints.items()]\n",
        "\n",
        "print(pd.DataFrame(o))"
      ]
    },
    {
      "cell_type": "markdown",
      "id": "0cd3ba4a-7241-450c-a0b4-1ae7362658b6",
      "metadata": {
        "id": "0cd3ba4a-7241-450c-a0b4-1ae7362658b6"
      },
      "source": [
        "Linear Programming Problem Report: Optimization of Production Planning for Fruit Beverage Manufacturing Company\n",
        "Problem Statement:\n",
        "\n",
        "\n",
        "ABC Fruit Beverage Company aims to optimize its production planning to maximize profit while considering constraints on resource availability and production capacities for orange juice and apple juice.\n",
        "\n",
        "Formulation:\n",
        "Decision Variables:\n",
        "O: Liters of orange juice produced.\n",
        "A: Liters of apple juice produced.\n",
        "Objective Function:\n",
        "Maximize Z=2.5O+3A\n",
        "\n",
        "This objective function represents the total profit generated from producing orange juice and apple juice.\n",
        "Constraints:\n",
        "Orange concentrate constraint:\n",
        "0.5O+0.4A≤300\n",
        "Apple concentrate constraint:\n",
        "0.3O+0.4A≤250\n",
        "Water constraint:\n",
        "0.3O+0.4A≤300\n",
        "Packaging materials constraint:\n",
        "0.2O+0.3A≤150\n",
        "Production capacity for orange juice:\n",
        "O≤150\n",
        "Production capacity for apple juice:\n",
        "A≤120\n",
        "Non-negativity constraint:\n",
        "0≥ O, A≥0\n",
        "\n",
        "Step 1: Initializing the LPP problem using the PuLP library in Python.\n",
        "\n",
        "Defining decision variables O and A representing the quantities of orange juice and apple juice produced, respectively.\n",
        "\n",
        "Step 2: Converting into Standard Form\n",
        "\n",
        "Rewriting the constraints to standard form (≤ constraints).\n",
        "Introducing slack variables for each constraint to convert them to equalities.\n",
        "\n",
        "Step 3: Initial Basic Feasible Solution (IBFS)\n",
        "\n",
        "Identifying the basic variables by setting the slack variables to their respective constraint values.\n",
        "Calculating the values of non-basic variables (O and A) based on the values of basic variables.\n",
        "\n",
        "Step 4: Optimality Test\n",
        "\n",
        "Calculating the coefficients of the objective function for the current basic feasible solution.\n",
        "Determining if any coefficients are negative. If all coefficients are non-negative, the current solution is optimal; otherwise, proceed to the next step.\n",
        "\n",
        "Step 5: Pivot Operation\n",
        "\n",
        "Selecting the entering variable (the variable with the most negative coefficient in the objective function).\n",
        "Determining the leaving variable (the variable that will leave the basis to maintain feasibility).\n",
        "Performing pivot operations to update the tableau and obtain a new basic feasible solution.\n",
        "\n",
        "Step 6: Repeat\n",
        "\n",
        "Repeating steps 4 and 5 until no negative coefficients exist in the objective function, indicating optimality.\n",
        "\n",
        "Step 7: Solution\n",
        "\n",
        "Once the optimal solution is reached, we need to read the optimal values of the decision variables (O and A).\n",
        "Calculating the optimal value of the objective function to determine the maximum profit.\n",
        "\n",
        "Model Status: Optimal\n",
        "Objective Value: Z=$505.0\n",
        "Optimal Production Quantities:\n",
        "Orange Juice (O): 120 liters\n",
        "Apple Juice (A): 150 liters\n",
        "\n",
        "Sensitivity Analysis:-\n",
        "Shadow Prices:\n",
        "Orange concentrate constraint: $0.00 (no impact)\n",
        "Apple concentrate constraint: $0.00 (no impact)\n",
        "Water constraint: $0.50 (one additional liter of water would increase profit by $0.50)\n",
        "Packaging materials constraint: $0.00 (no impact)\n",
        "Slack Values:\n",
        "Orange concentrate constraint: 0 liters (fully utilized)\n",
        "Apple concentrate constraint: 0 liters (fully utilized)\n",
        "Water constraint: 0 liters (fully utilized)\n",
        "Packaging materials constraint: 0 liters (fully utilized)\n",
        "\n",
        "Conclusion:\n",
        "The optimal production plan suggests producing 120 liters of orange juice and 150 liters of apple juice, yielding a total profit of $505.0. Sensitivity analysis indicates that increasing water availability by one liter would lead to an additional profit of $0.50, highlighting the importance of managing water resources efficiently.\n",
        "\n",
        "This analysis enables ABC Fruit Beverage Company to make informed decisions regarding production planning and resource allocation, ultimately enhancing profitability and competitiveness in the fruit beverage market.\n",
        "\n",
        "This report provides a structured overview of the problem, its formulation, the obtained solution, and sensitivity analysis. It helps stakeholders understand the optimization results and implications for decision-making."
      ]
    }
  ],
  "metadata": {
    "kernelspec": {
      "display_name": "Python 3 (ipykernel)",
      "language": "python",
      "name": "python3"
    },
    "language_info": {
      "codemirror_mode": {
        "name": "ipython",
        "version": 3
      },
      "file_extension": ".py",
      "mimetype": "text/x-python",
      "name": "python",
      "nbconvert_exporter": "python",
      "pygments_lexer": "ipython3",
      "version": "3.11.4"
    },
    "colab": {
      "provenance": [],
      "include_colab_link": true
    }
  },
  "nbformat": 4,
  "nbformat_minor": 5
}