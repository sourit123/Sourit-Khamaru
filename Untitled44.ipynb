{
  "nbformat": 4,
  "nbformat_minor": 0,
  "metadata": {
    "colab": {
      "provenance": [],
      "authorship_tag": "ABX9TyM48xzdLLMsb5twlaA1aaJ0",
      "include_colab_link": true
    },
    "kernelspec": {
      "name": "python3",
      "display_name": "Python 3"
    },
    "language_info": {
      "name": "python"
    }
  },
  "cells": [
    {
      "cell_type": "markdown",
      "metadata": {
        "id": "view-in-github",
        "colab_type": "text"
      },
      "source": [
        "<a href=\"https://colab.research.google.com/github/sourit123/Sourit-Khamaru/blob/main/Untitled44.ipynb\" target=\"_parent\"><img src=\"https://colab.research.google.com/assets/colab-badge.svg\" alt=\"Open In Colab\"/></a>"
      ]
    },
    {
      "cell_type": "markdown",
      "source": [
        "Q1) MaxZ = 3x1 + 5x2 + 4x3\n",
        "\n",
        "     Subject to     2x1 + 3x2 <= 8\n",
        "                    2x2 + 5x3 <= 10\n",
        "                 3x1 + 2x2 + 4x3 <= 15\n",
        "                    x1, x2, x3 >= 0"
      ],
      "metadata": {
        "id": "BvcAfPflfdN2"
      }
    },
    {
      "cell_type": "code",
      "source": [
        "from scipy.optimize import linprog\n",
        "k = [-3,-5,-4]\n",
        "A = [[2,3,0], [0, 2,5],[3,2,4]]\n",
        "b = [8,10,15]\n",
        "x0_bounds = (0, None)\n",
        "x1_bounds = (0, None)\n",
        "x2_bounds = (0, None)\n",
        "\n",
        "res = linprog(k, A_ub=A, b_ub=b, bounds=[x0_bounds, x1_bounds, x2_bounds], method='simplex')\n",
        "\n",
        "res"
      ],
      "metadata": {
        "colab": {
          "base_uri": "https://localhost:8080/"
        },
        "id": "gs1D__JPfgem",
        "outputId": "ce6780fc-ba46-4522-e586-03e5f462ff4d"
      },
      "execution_count": 20,
      "outputs": [
        {
          "output_type": "stream",
          "name": "stderr",
          "text": [
            "<ipython-input-20-32653bffeaf5>:9: DeprecationWarning: `method='simplex'` is deprecated and will be removed in SciPy 1.11.0. Please use one of the HiGHS solvers (e.g. `method='highs'`) in new code.\n",
            "  res = linprog(k, A_ub=A, b_ub=b, bounds=[x0_bounds, x1_bounds, x2_bounds], method='simplex')\n"
          ]
        },
        {
          "output_type": "execute_result",
          "data": {
            "text/plain": [
              " message: Optimization terminated successfully.\n",
              " success: True\n",
              "  status: 0\n",
              "     fun: -18.65853658536585\n",
              "       x: [ 2.171e+00  1.220e+00  1.512e+00]\n",
              "     nit: 3"
            ]
          },
          "metadata": {},
          "execution_count": 20
        }
      ]
    },
    {
      "cell_type": "code",
      "source": [
        "print(f\"for optimal profit; x1={res.x[0]}, x2={res.x[1]}, x3={res.x[2]}\")"
      ],
      "metadata": {
        "colab": {
          "base_uri": "https://localhost:8080/"
        },
        "id": "sEVwdTUbfoju",
        "outputId": "08795f70-26d8-40d8-b540-a554a4ed3310"
      },
      "execution_count": 21,
      "outputs": [
        {
          "output_type": "stream",
          "name": "stdout",
          "text": [
            "for optimal profit; x1=2.1707317073170733, x2=1.2195121951219512, x3=1.5121951219512195\n"
          ]
        }
      ]
    },
    {
      "cell_type": "code",
      "source": [
        "print(f\"Max profit={abs(res.fun)}\")"
      ],
      "metadata": {
        "colab": {
          "base_uri": "https://localhost:8080/"
        },
        "id": "H6y9iCAxfr8B",
        "outputId": "1f2df5e3-4039-49e1-9ef9-c1175b279c1c"
      },
      "execution_count": 22,
      "outputs": [
        {
          "output_type": "stream",
          "name": "stdout",
          "text": [
            "Max profit=18.65853658536585\n"
          ]
        }
      ]
    },
    {
      "cell_type": "markdown",
      "source": [
        "Q2) Min Z=4x+3y\n",
        "\n",
        "    Subject to , 200x+100y>=4000\n",
        "                   x+2y>=50\n",
        "                 40x+40y>=1400\n",
        "                   x, y >= 0"
      ],
      "metadata": {
        "id": "fNct3z9of2y2"
      }
    },
    {
      "cell_type": "code",
      "source": [
        "from scipy.optimize import linprog\n",
        "\n",
        "k = [4, 3]  # Cost function coefficients\n",
        "A_ub = [[-200, -100], [-1, -2], [-40, -40]]  # Inequality constraints coefficients\n",
        "b_ub = [-4000, -50, -1400]  # Inequality constraints bounds\n",
        "\n",
        "# Solve the linear programming problem\n",
        "res = linprog(k, A_ub=A_ub, b_ub=b_ub, bounds=[(0, None), (0, None)], method='simplex')\n",
        "print(res)"
      ],
      "metadata": {
        "colab": {
          "base_uri": "https://localhost:8080/"
        },
        "id": "9sPeyNRnfxUp",
        "outputId": "d999ae0b-2698-4101-bad2-bfc04a5b1086"
      },
      "execution_count": 23,
      "outputs": [
        {
          "output_type": "stream",
          "name": "stdout",
          "text": [
            " message: Optimization terminated successfully.\n",
            " success: True\n",
            "  status: 0\n",
            "     fun: 110.0\n",
            "       x: [ 5.000e+00  3.000e+01]\n",
            "     nit: 3\n"
          ]
        },
        {
          "output_type": "stream",
          "name": "stderr",
          "text": [
            "<ipython-input-23-6828623d44ee>:8: DeprecationWarning: `method='simplex'` is deprecated and will be removed in SciPy 1.11.0. Please use one of the HiGHS solvers (e.g. `method='highs'`) in new code.\n",
            "  res = linprog(k, A_ub=A_ub, b_ub=b_ub, bounds=[(0, None), (0, None)], method='simplex')\n"
          ]
        }
      ]
    },
    {
      "cell_type": "code",
      "source": [
        "# Output the results\n",
        "if res.success:\n",
        "    print(f\"Optimal food combination; Food A (x)={res.x[0]}, Food B (y)={res.x[1]}\")\n",
        "    print(f\"Minimum total cost (z)={res.fun}\")\n",
        "else:\n",
        "    print(\"No feasible solution found.\")"
      ],
      "metadata": {
        "colab": {
          "base_uri": "https://localhost:8080/"
        },
        "id": "NKBJ4M-UgCU4",
        "outputId": "58e7e6d5-e1b9-453a-950a-c9181a80452e"
      },
      "execution_count": 24,
      "outputs": [
        {
          "output_type": "stream",
          "name": "stdout",
          "text": [
            "Optimal food combination; Food A (x)=5.0, Food B (y)=30.0\n",
            "Minimum total cost (z)=110.0\n"
          ]
        }
      ]
    },
    {
      "cell_type": "markdown",
      "source": [
        "Q3) Max Z=500000x+100000y\n",
        "\n",
        "    Subject to,  50000x+20000y<=200000\n",
        "                        x>=3\n",
        "                        y<=5\n",
        "                        x,y>=0"
      ],
      "metadata": {
        "id": "1BNqkx_fgGSd"
      }
    },
    {
      "cell_type": "code",
      "source": [
        "from scipy.optimize import linprog\n",
        "\n",
        "# Objective function coefficients and constraints\n",
        "k = [-500000, -100000]\n",
        "A = [[50000, 20000], [-1, 0], [0, 1]]\n",
        "b = [200000, -3, 5]\n",
        "x_bounds = (3, None)\n",
        "y_bounds = (0, 5)\n",
        "\n",
        "# Solve the problem\n",
        "res = linprog(k, A_ub=A, b_ub=b, bounds=[x_bounds, y_bounds], method='simplex')\n",
        "print(res)"
      ],
      "metadata": {
        "colab": {
          "base_uri": "https://localhost:8080/"
        },
        "id": "rJv9ddcdgD8h",
        "outputId": "937050b8-02f0-4ac4-db3e-dacb999c5c44"
      },
      "execution_count": 25,
      "outputs": [
        {
          "output_type": "stream",
          "name": "stdout",
          "text": [
            " message: Optimization terminated successfully.\n",
            " success: True\n",
            "  status: 0\n",
            "     fun: -2000000.0\n",
            "       x: [ 4.000e+00  0.000e+00]\n",
            "     nit: 4\n"
          ]
        },
        {
          "output_type": "stream",
          "name": "stderr",
          "text": [
            "<ipython-input-25-fcbe9bc761b6>:11: DeprecationWarning: `method='simplex'` is deprecated and will be removed in SciPy 1.11.0. Please use one of the HiGHS solvers (e.g. `method='highs'`) in new code.\n",
            "  res = linprog(k, A_ub=A, b_ub=b, bounds=[x_bounds, y_bounds], method='simplex')\n"
          ]
        }
      ]
    },
    {
      "cell_type": "code",
      "source": [
        "# Print the optimal media mix and maximum reach\n",
        "if res.success:\n",
        "    print(f\"for optimal media mix; TV programmes (x)={res.x[0]}, Radio programmes (y)={res.x[1]}\")\n",
        "    print(f\"Maximum reach={-res.fun}\")  # Negate because we minimized the negative of the objective\n",
        "else:\n",
        "    print(\"There is no feasible solution\")"
      ],
      "metadata": {
        "colab": {
          "base_uri": "https://localhost:8080/"
        },
        "id": "Vv6af-EngLcW",
        "outputId": "18ff569a-4bc4-483e-c7b0-43d94e2c4641"
      },
      "execution_count": 26,
      "outputs": [
        {
          "output_type": "stream",
          "name": "stdout",
          "text": [
            "for optimal media mix; TV programmes (x)=4.0, Radio programmes (y)=0.0\n",
            "Maximum reach=2000000.0\n"
          ]
        }
      ]
    }
  ]
}